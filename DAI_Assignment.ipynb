{
 "cells": [
  {
   "cell_type": "markdown",
   "metadata": {},
   "source": [
    "Lets use a file data.csv for this assignment in which we are provided with a data of 1000 employees in the company along with their age, salary, Joining Date, Department and Perfomance Score. So lets first inspect the data."
   ]
  },
  {
   "cell_type": "code",
   "execution_count": null,
   "metadata": {},
   "outputs": [],
   "source": [
    "import pandas as pd\n",
    "import numpy as np\n",
    "\n",
    "# Load the dataset\n",
    "df = pd.read_csv(\"data.csv\")\n",
    "\n",
    "# Display basic information about the dataset\n",
    "df.info()\n",
    "df.head()"
   ]
  },
  {
   "cell_type": "markdown",
   "metadata": {},
   "source": [
    "As we can see we have some missing values in column of Performance_Score. So let us first fill these cells with the mean of performance score."
   ]
  },
  {
   "cell_type": "code",
   "execution_count": null,
   "metadata": {},
   "outputs": [],
   "source": [
    "# Check and remove duplicate records\n",
    "df.drop_duplicates(inplace=True)\n",
    "\n",
    "print(df['Performance_Score'].mean())\n"
   ]
  },
  {
   "cell_type": "code",
   "execution_count": null,
   "metadata": {},
   "outputs": [],
   "source": [
    "# Handle missing values in Performance_Score (impute with mean)\n",
    "df['Performance_Score'].fillna(3, inplace=True)\n",
    "\n",
    "#Removing outliers in Age and Salary\n",
    "q1= df[['Age', 'Salary']].quantile(0.25)\n",
    "q3= df[['Age', 'Salary']].quantile(0.75)\n",
    "#Calculate IQR\n",
    "IQR=q3-q1\n",
    "#Define Lower and Upper Bound\n",
    "LB= q1-1.5*IQR\n",
    "UB= q3+1.5*IQR\n",
    "\n",
    "# Filter out outliers\n",
    "df = df[~((df[['Age', 'Salary']] < LB) | (df[['Age', 'Salary']] > UB)).any(axis=1)]\n",
    "\n",
    "#Standardizing the data in Department by removing exxtra spaces and making the all data in same case type\n",
    "df['Department']=df['Department'].str.strip().str.title()\n",
    "\n",
    "\n",
    "df.info()"
   ]
  },
  {
   "cell_type": "markdown",
   "metadata": {},
   "source": [
    "Now lets move further with Univariate Analysis\n",
    "- Determining the count of employee according to their age and salary.\n",
    "- Determining the count of people according to their perfomance score.\n",
    "- Determining the number of employee in each department. \n"
   ]
  },
  {
   "cell_type": "code",
   "execution_count": null,
   "metadata": {},
   "outputs": [],
   "source": [
    "import matplotlib.pyplot as plt\n"
   ]
  },
  {
   "cell_type": "code",
   "execution_count": null,
   "metadata": {},
   "outputs": [],
   "source": [
    "\n",
    "#Summary Statistics of Age Distribution\n",
    "df['Age'].describe()\n"
   ]
  },
  {
   "cell_type": "code",
   "execution_count": null,
   "metadata": {},
   "outputs": [],
   "source": [
    "\n",
    "#Summary Statistics of Salary Distribution\n",
    "df['Salary'].describe()\n"
   ]
  },
  {
   "cell_type": "code",
   "execution_count": null,
   "metadata": {},
   "outputs": [],
   "source": [
    "\n",
    "#Summary Statistics of Performance Score\n",
    "df['Performance_Score'].describe()"
   ]
  },
  {
   "cell_type": "code",
   "execution_count": null,
   "metadata": {},
   "outputs": [],
   "source": [
    "fig, axes = plt.subplots(2, 2, figsize=[12,12])\n",
    "\n",
    "# First plot the Age vs count graph for the employees\n",
    "df['Age'].plot(kind='hist', bins= 20, edgecolor='black',ax=axes[0,0] )\n",
    "axes[0,0].set_xlabel('Age')\n",
    "axes[0,0].set_ylabel('Count')\n",
    "axes[0,0].set_title('Age Distribution')\n",
    "\n",
    "\n",
    "# Plot the Salary vs count graph for the employees\n",
    "df['Salary'].plot(kind='hist', bins= 20, edgecolor='black', color='orange',ax=axes[0,1] )\n",
    "axes[0,1].set_xlabel('Salary')\n",
    "axes[0,1].set_ylabel('Count')\n",
    "axes[0,1].set_title('Salary Distribution')\n",
    "\n",
    "# Plot the count of employees in each department\n",
    "df['Department'].value_counts().plot(kind='pie',autopct='%0.1f%%',ax=axes[1,0] )\n",
    "axes[1,0].set_xlabel('Department')\n",
    "axes[1,0].set_ylabel(' ')\n",
    "axes[1,0].set_title('Department Wise Distribution')\n",
    "\n",
    "# Plot the box plot of Perfromance score\n",
    "df['Performance_Score'].plot(kind='box', ax=axes[1,1])\n",
    "axes[1,1].set_ylabel('Count')\n",
    "axes[1,1].set_title('Performance Score Distribution')"
   ]
  },
  {
   "cell_type": "markdown",
   "metadata": {},
   "source": [
    "Here we are done with the Univariate Analysis and we can infer:\n",
    "- Maximum number of employees working are from nearly 45 years.\n",
    "- Maximum employees are working at salary of about 100000.\n",
    "- Maximum employees are working in Marketing departement."
   ]
  },
  {
   "cell_type": "markdown",
   "metadata": {},
   "source": [
    "Now we move on with BIVARIATE ANALYSIS. We will see:\n",
    " - Correlation matrix of Age, Salary and Performance score\n",
    " - How the nature of salary varies for people of different age group.\n",
    " - How performance score varies according to the age.\n",
    " - How salary varies according to performance score.\n",
    " - How performance score varies in each department."
   ]
  },
  {
   "cell_type": "code",
   "execution_count": null,
   "metadata": {},
   "outputs": [],
   "source": [
    "import seaborn as sns"
   ]
  },
  {
   "cell_type": "code",
   "execution_count": null,
   "metadata": {},
   "outputs": [],
   "source": [
    "# Correlation Matrix for Age, Salary and Perfromance Score\n",
    "df[['Age','Salary','Performance_Score']].corr()"
   ]
  },
  {
   "cell_type": "code",
   "execution_count": null,
   "metadata": {},
   "outputs": [],
   "source": [
    "fig1, axes= plt.subplots(2, 2, figsize=(12,12) )\n",
    "\n",
    "# Scatar Plot between Salary and Age\n",
    "sns.scatterplot(x=df['Salary'],y=df['Age'], marker= 'x', color='coral',ax=axes[0,0])\n",
    "axes[0,0].set_xlabel(\"Salary\")\n",
    "axes[0,0].set_ylabel(\"Age\")\n",
    "axes[0,0].set_title(\"Age v/s Salary Distribution\")\n",
    "\n",
    "# Box Plot of performance score at different ages\n",
    "sns.boxplot(x=df['Age'],y=df['Performance_Score'],ax=axes[0,1])\n",
    "axes[0,1].set_xlabel(\"Age\")\n",
    "axes[0,1].set_ylabel(\"Perfromance Score\")\n",
    "axes[0,1].set_title(\"Age v/s Perfromance Score\")\n",
    "\n",
    "# Density graph of performance score at differnet salary\n",
    "sns.kdeplot(x=df['Salary'], y=df['Performance_Score'], cmap=\"Blues\", fill= True,ax=axes[1,0])\n",
    "axes[1,0].set_xlabel(\"Salary\")\n",
    "axes[1,0].set_ylabel(\"Performance Score\")\n",
    "axes[1,0].set_title(\"Salary v/s Perfromace Score\")\n",
    "\n",
    "# Count of people in different department with different performance score\n",
    "sns.countplot(x=df['Department'], hue=df['Performance_Score'], palette='viridis', ax=axes[1,1])\n",
    "axes[1,1].set_xlabel(\"Department\")\n",
    "axes[1,1].set_ylabel(\"Count of Employees\")\n",
    "axes[1,1].set_title(\"Department-wise Employee Count for Different Performance Scores\")"
   ]
  },
  {
   "cell_type": "markdown",
   "metadata": {},
   "source": [
    "Here we are done with the Bivariate Analysis. We infer that:\n",
    "- There is no particular relation in age and salary.\n",
    "- People with performance score more than 3 have comparatively more salary.\n",
    "- There are maximum people with performance score in each department."
   ]
  },
  {
   "cell_type": "markdown",
   "metadata": {},
   "source": [
    "Now we will move on with the Multivariate Analysis. We will look at:\n",
    "- Pairplot to analyse about age, salarya and performance score simultaneously.\n",
    "- Heatmap to visualise to correlation between age, salary and performance score.\n",
    "- Bar plot for salary distribution in different department for different performance score.\n",
    "- Violin plor for age distribution in different department for different performance score."
   ]
  },
  {
   "cell_type": "code",
   "execution_count": null,
   "metadata": {},
   "outputs": [],
   "source": [
    "sns.pairplot(df, hue='Performance_Score', palette='viridis')\n",
    "plt.title(\"Pair Plot\")\n"
   ]
  },
  {
   "cell_type": "code",
   "execution_count": null,
   "metadata": {},
   "outputs": [],
   "source": [
    "\n",
    "sns.heatmap(df[['Age','Salary','Performance_Score']].corr(),cmap='coolwarm',annot=True)\n",
    "plt.title(\"Correlation Heatmap\")"
   ]
  },
  {
   "cell_type": "code",
   "execution_count": null,
   "metadata": {},
   "outputs": [],
   "source": [
    "sns.barplot(x=\"Department\", y=\"Salary\", hue=\"Performance_Score\", data=df, palette=\"viridis\")\n",
    "plt.title(\"Salary Distribution Across Departments for Different Performance Scores\")"
   ]
  },
  {
   "cell_type": "code",
   "execution_count": null,
   "metadata": {},
   "outputs": [],
   "source": [
    "sns.violinplot(x=df['Performance_Score'], y=df['Age'], hue=df['Department'], split=True, palette=\"viridis\")\n",
    "plt.title(\"Age Distribution Across Performance Scores and Departments\")"
   ]
  },
  {
   "cell_type": "markdown",
   "metadata": {},
   "source": [
    "Here we are done with our multivariate analysis. We infer from vaiuos plots:\n",
    "- Pair Plot: A pair plot helped visualize interactions between numerical variables for different performance score.\n",
    "\n",
    "- Heatmap: A heatmap of the correlation matrix provided insights into relationships between numerical variables.\n",
    "\n",
    "- Grouped Bar Chart: Analyzed salary distribution across departments and performance scores, showing variations in pay among different categories.\n",
    "\n",
    "- Violin Plot: Revealed that Age distribution varies significantly across different performance scores."
   ]
  },
  {
   "cell_type": "markdown",
   "metadata": {},
   "source": [
    "Detailed Analysis Report\n",
    "\n",
    "1.Overview of the Dataset\n",
    "\n",
    "The dataset contains records of 1,000 employees across multiple departments. The key attributes include:\n",
    "- Age (years)\n",
    "- Salary (annual income in dollars)\n",
    "- Joining Date\n",
    "- Department\n",
    "- Performance Score (1 to 5 scale)\n",
    "\n",
    "2.Data Quality Check\n",
    "\n",
    "- Missing Values: 55 entries in the Performance Score column are missing.\n",
    "- Duplicates: No duplicate records found.\n",
    "- Data Types: Age and Salary are numeric, while other fields are categorical.\n",
    "\n",
    "3.Key Statistical Insights\n",
    "\n",
    "- Age: Employees range from 20 to 59 years; the average age is ~40 years.\n",
    "- Salary: Salaries vary between $30,028 and $149,922, with a median of $91,750.\n",
    "- Performance Scores: The average score is 2.84, with most employees scoring between 2 and 4.\n",
    "\n",
    "4.Visual Analysis & Findings\n",
    "\n",
    "Age Distribution\n",
    "- The majority of employees are between 30 and 50 years old.\n",
    "- There are fewer employees in the younger (20-30) and older (50-59) age groups.\n",
    "- The distribution follows a normal trend, peaking around the 45-year mark.\n",
    "\n",
    "Salary vs. Performance Score\n",
    "- The density plot indicates no strong correlation between salary and performance scores.\n",
    "- Some high earners (above $120,000) have low performance scores (1 or 2), suggesting salary is not solely based on performance.\n",
    "- Conversely, some low earners (below $50,000) have high performance scores (4 or 5), hinting at potential disparities in salary distribution.\n",
    "\n",
    "Performance Score Distribution\n",
    "- The most common performance scores are 2, 3, and 4.\n",
    "- Only a small percentage of employees have exceptionally high (5) or low (1) ratings.\n",
    "- This distribution suggests a majority of employees perform at an average level, with fewer extremes.\n",
    "\n",
    "Department-wise Salary Trends\n",
    "- The bargraph reveals considerable salary variation across departments.\n",
    "- Some departments, likely Marketing and Finance, have higher median salaries.\n",
    "- Other departments, such as Sales or HR, show lower salary ranges.\n",
    "- Salary discrepancies could indicate differences in job roles, experience levels, or company priorities.\n",
    "\n",
    "5.Recommendations & Next Steps\n",
    "\n",
    "Handling Missing Performance Scores: Fill missing values with the average score ~3 or use predictive modeling to estimate based on other attributes.\n",
    "\n",
    "Further Analysis:\n",
    "- Investigate department-wise performance trends to see if certain departments perform better than others.\n",
    "- Analyze whether longer tenure correlates with higher salaries or better performance.\n",
    "\n",
    "Performance Improvement Initiatives:\n",
    "- Identify key drivers of low and high performance to develop targeted employee development programs.\n",
    "- Assess whether salary adjustments are needed for high performers in low-paying departments.\n",
    "\n",
    "This analysis provides a strong foundation for workforce insights and decision-making, helping to optimize salary structures and performance evaluation methods."
   ]
  }
 ],
 "metadata": {
  "kernelspec": {
   "display_name": "Python 3",
   "language": "python",
   "name": "python3"
  },
  "language_info": {
   "codemirror_mode": {
    "name": "ipython",
    "version": 3
   },
   "file_extension": ".py",
   "mimetype": "text/x-python",
   "name": "python",
   "nbconvert_exporter": "python",
   "pygments_lexer": "ipython3",
   "version": "3.12.4"
  }
 },
 "nbformat": 4,
 "nbformat_minor": 2
}
